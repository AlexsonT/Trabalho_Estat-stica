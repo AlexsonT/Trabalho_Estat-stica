{
  "nbformat": 4,
  "nbformat_minor": 0,
  "metadata": {
    "colab": {
      "name": "Atividade_final_estatística.ipynb",
      "provenance": [],
      "authorship_tag": "ABX9TyOrkOQDfSP4HbrwIIH7UJvB",
      "include_colab_link": true
    },
    "kernelspec": {
      "name": "python3",
      "display_name": "Python 3"
    },
    "language_info": {
      "name": "python"
    }
  },
  "cells": [
    {
      "cell_type": "markdown",
      "metadata": {
        "id": "view-in-github",
        "colab_type": "text"
      },
      "source": [
        "<a href=\"https://colab.research.google.com/github/AlexsonT/Trabalho_Estatistica/blob/main/Atividade_final_estat%C3%ADstica.ipynb\" target=\"_parent\"><img src=\"https://colab.research.google.com/assets/colab-badge.svg\" alt=\"Open In Colab\"/></a>"
      ]
    },
    {
      "cell_type": "code",
      "execution_count": 25,
      "metadata": {
        "colab": {
          "base_uri": "https://localhost:8080/",
          "height": 708
        },
        "id": "_tybHxc2Ci3C",
        "outputId": "6c238412-7055-478f-dc83-667c90353489"
      },
      "outputs": [
        {
          "output_type": "execute_result",
          "data": {
            "text/plain": [
              "     Dias Temperatura\n",
              "0   dia01          30\n",
              "1   dia02          32\n",
              "2   dia03        31.5\n",
              "3   dia04          31\n",
              "4   dia05          33\n",
              "5   dia06          34\n",
              "6   dia07          33\n",
              "7   dia08          32\n",
              "8   dia09          30\n",
              "9   dia10          28\n",
              "10  dia11          29\n",
              "11  dia12        30.5\n",
              "12  dia13          31\n",
              "13  dia14          29\n",
              "14  dia15          33\n",
              "15  dia16          34\n",
              "16  dia17          35\n",
              "17  dia18          35\n",
              "18  dia19        34.5\n",
              "19  dia20          34\n",
              "20  dia21          33"
            ],
            "text/html": [
              "\n",
              "  <div id=\"df-5a4f71a8-fdf1-46ed-8a32-99b0fcee3141\">\n",
              "    <div class=\"colab-df-container\">\n",
              "      <div>\n",
              "<style scoped>\n",
              "    .dataframe tbody tr th:only-of-type {\n",
              "        vertical-align: middle;\n",
              "    }\n",
              "\n",
              "    .dataframe tbody tr th {\n",
              "        vertical-align: top;\n",
              "    }\n",
              "\n",
              "    .dataframe thead th {\n",
              "        text-align: right;\n",
              "    }\n",
              "</style>\n",
              "<table border=\"1\" class=\"dataframe\">\n",
              "  <thead>\n",
              "    <tr style=\"text-align: right;\">\n",
              "      <th></th>\n",
              "      <th>Dias</th>\n",
              "      <th>Temperatura</th>\n",
              "    </tr>\n",
              "  </thead>\n",
              "  <tbody>\n",
              "    <tr>\n",
              "      <th>0</th>\n",
              "      <td>dia01</td>\n",
              "      <td>30</td>\n",
              "    </tr>\n",
              "    <tr>\n",
              "      <th>1</th>\n",
              "      <td>dia02</td>\n",
              "      <td>32</td>\n",
              "    </tr>\n",
              "    <tr>\n",
              "      <th>2</th>\n",
              "      <td>dia03</td>\n",
              "      <td>31.5</td>\n",
              "    </tr>\n",
              "    <tr>\n",
              "      <th>3</th>\n",
              "      <td>dia04</td>\n",
              "      <td>31</td>\n",
              "    </tr>\n",
              "    <tr>\n",
              "      <th>4</th>\n",
              "      <td>dia05</td>\n",
              "      <td>33</td>\n",
              "    </tr>\n",
              "    <tr>\n",
              "      <th>5</th>\n",
              "      <td>dia06</td>\n",
              "      <td>34</td>\n",
              "    </tr>\n",
              "    <tr>\n",
              "      <th>6</th>\n",
              "      <td>dia07</td>\n",
              "      <td>33</td>\n",
              "    </tr>\n",
              "    <tr>\n",
              "      <th>7</th>\n",
              "      <td>dia08</td>\n",
              "      <td>32</td>\n",
              "    </tr>\n",
              "    <tr>\n",
              "      <th>8</th>\n",
              "      <td>dia09</td>\n",
              "      <td>30</td>\n",
              "    </tr>\n",
              "    <tr>\n",
              "      <th>9</th>\n",
              "      <td>dia10</td>\n",
              "      <td>28</td>\n",
              "    </tr>\n",
              "    <tr>\n",
              "      <th>10</th>\n",
              "      <td>dia11</td>\n",
              "      <td>29</td>\n",
              "    </tr>\n",
              "    <tr>\n",
              "      <th>11</th>\n",
              "      <td>dia12</td>\n",
              "      <td>30.5</td>\n",
              "    </tr>\n",
              "    <tr>\n",
              "      <th>12</th>\n",
              "      <td>dia13</td>\n",
              "      <td>31</td>\n",
              "    </tr>\n",
              "    <tr>\n",
              "      <th>13</th>\n",
              "      <td>dia14</td>\n",
              "      <td>29</td>\n",
              "    </tr>\n",
              "    <tr>\n",
              "      <th>14</th>\n",
              "      <td>dia15</td>\n",
              "      <td>33</td>\n",
              "    </tr>\n",
              "    <tr>\n",
              "      <th>15</th>\n",
              "      <td>dia16</td>\n",
              "      <td>34</td>\n",
              "    </tr>\n",
              "    <tr>\n",
              "      <th>16</th>\n",
              "      <td>dia17</td>\n",
              "      <td>35</td>\n",
              "    </tr>\n",
              "    <tr>\n",
              "      <th>17</th>\n",
              "      <td>dia18</td>\n",
              "      <td>35</td>\n",
              "    </tr>\n",
              "    <tr>\n",
              "      <th>18</th>\n",
              "      <td>dia19</td>\n",
              "      <td>34.5</td>\n",
              "    </tr>\n",
              "    <tr>\n",
              "      <th>19</th>\n",
              "      <td>dia20</td>\n",
              "      <td>34</td>\n",
              "    </tr>\n",
              "    <tr>\n",
              "      <th>20</th>\n",
              "      <td>dia21</td>\n",
              "      <td>33</td>\n",
              "    </tr>\n",
              "  </tbody>\n",
              "</table>\n",
              "</div>\n",
              "      <button class=\"colab-df-convert\" onclick=\"convertToInteractive('df-5a4f71a8-fdf1-46ed-8a32-99b0fcee3141')\"\n",
              "              title=\"Convert this dataframe to an interactive table.\"\n",
              "              style=\"display:none;\">\n",
              "        \n",
              "  <svg xmlns=\"http://www.w3.org/2000/svg\" height=\"24px\"viewBox=\"0 0 24 24\"\n",
              "       width=\"24px\">\n",
              "    <path d=\"M0 0h24v24H0V0z\" fill=\"none\"/>\n",
              "    <path d=\"M18.56 5.44l.94 2.06.94-2.06 2.06-.94-2.06-.94-.94-2.06-.94 2.06-2.06.94zm-11 1L8.5 8.5l.94-2.06 2.06-.94-2.06-.94L8.5 2.5l-.94 2.06-2.06.94zm10 10l.94 2.06.94-2.06 2.06-.94-2.06-.94-.94-2.06-.94 2.06-2.06.94z\"/><path d=\"M17.41 7.96l-1.37-1.37c-.4-.4-.92-.59-1.43-.59-.52 0-1.04.2-1.43.59L10.3 9.45l-7.72 7.72c-.78.78-.78 2.05 0 2.83L4 21.41c.39.39.9.59 1.41.59.51 0 1.02-.2 1.41-.59l7.78-7.78 2.81-2.81c.8-.78.8-2.07 0-2.86zM5.41 20L4 18.59l7.72-7.72 1.47 1.35L5.41 20z\"/>\n",
              "  </svg>\n",
              "      </button>\n",
              "      \n",
              "  <style>\n",
              "    .colab-df-container {\n",
              "      display:flex;\n",
              "      flex-wrap:wrap;\n",
              "      gap: 12px;\n",
              "    }\n",
              "\n",
              "    .colab-df-convert {\n",
              "      background-color: #E8F0FE;\n",
              "      border: none;\n",
              "      border-radius: 50%;\n",
              "      cursor: pointer;\n",
              "      display: none;\n",
              "      fill: #1967D2;\n",
              "      height: 32px;\n",
              "      padding: 0 0 0 0;\n",
              "      width: 32px;\n",
              "    }\n",
              "\n",
              "    .colab-df-convert:hover {\n",
              "      background-color: #E2EBFA;\n",
              "      box-shadow: 0px 1px 2px rgba(60, 64, 67, 0.3), 0px 1px 3px 1px rgba(60, 64, 67, 0.15);\n",
              "      fill: #174EA6;\n",
              "    }\n",
              "\n",
              "    [theme=dark] .colab-df-convert {\n",
              "      background-color: #3B4455;\n",
              "      fill: #D2E3FC;\n",
              "    }\n",
              "\n",
              "    [theme=dark] .colab-df-convert:hover {\n",
              "      background-color: #434B5C;\n",
              "      box-shadow: 0px 1px 3px 1px rgba(0, 0, 0, 0.15);\n",
              "      filter: drop-shadow(0px 1px 2px rgba(0, 0, 0, 0.3));\n",
              "      fill: #FFFFFF;\n",
              "    }\n",
              "  </style>\n",
              "\n",
              "      <script>\n",
              "        const buttonEl =\n",
              "          document.querySelector('#df-5a4f71a8-fdf1-46ed-8a32-99b0fcee3141 button.colab-df-convert');\n",
              "        buttonEl.style.display =\n",
              "          google.colab.kernel.accessAllowed ? 'block' : 'none';\n",
              "\n",
              "        async function convertToInteractive(key) {\n",
              "          const element = document.querySelector('#df-5a4f71a8-fdf1-46ed-8a32-99b0fcee3141');\n",
              "          const dataTable =\n",
              "            await google.colab.kernel.invokeFunction('convertToInteractive',\n",
              "                                                     [key], {});\n",
              "          if (!dataTable) return;\n",
              "\n",
              "          const docLinkHtml = 'Like what you see? Visit the ' +\n",
              "            '<a target=\"_blank\" href=https://colab.research.google.com/notebooks/data_table.ipynb>data table notebook</a>'\n",
              "            + ' to learn more about interactive tables.';\n",
              "          element.innerHTML = '';\n",
              "          dataTable['output_type'] = 'display_data';\n",
              "          await google.colab.output.renderOutput(dataTable, element);\n",
              "          const docLink = document.createElement('div');\n",
              "          docLink.innerHTML = docLinkHtml;\n",
              "          element.appendChild(docLink);\n",
              "        }\n",
              "      </script>\n",
              "    </div>\n",
              "  </div>\n",
              "  "
            ]
          },
          "metadata": {},
          "execution_count": 25
        }
      ],
      "source": [
        "# a) Organize uma tabela de frequência para as classes.\n",
        "\n",
        "import pandas as pd\n",
        "import numpy as np\n",
        "\n",
        "table = pd.DataFrame()\n",
        "\n",
        "temperaturas = '30 32 31.5 31 33 34 33 32 30 28 29 30.5 31 29 33 34 35 35 34.5 34 33'.split()\n",
        "dias = 'dia01 dia02 dia03 dia04 dia05 dia06 dia07 dia08 dia09 dia10 dia11 dia12 dia13 dia14 dia15 dia16 dia17 dia18 dia19 dia20 dia21'.split()\n",
        "\n",
        "table['Dias'] = dias\n",
        "table['Temperatura'] = temperaturas\n",
        "\n",
        "table\n",
        "\n"
      ]
    },
    {
      "cell_type": "code",
      "source": [
        "# b) Para cada semana, faça um gráfico de linha, para acompanhar a evolução da temperatura.\n",
        "import matplotlib.pyplot as plt\n",
        "\n",
        "temp = [30, 32, 31.5, 31, 33, 34, 33]\n",
        "dia_semana = ['Dom','Seg','Ter','Qua', 'Qui','Sex','Sáb']\n",
        "\n",
        "plt.title('VARIÇÃO DE TEMPERATURA SEMANA 01')\n",
        "plt.xlabel('Dias da semana')\n",
        "plt.ylabel('Temperatura')\n",
        "plt.grid()\n",
        "\n",
        "plt.plot(dia_semana, temp, marker = 'o')\n",
        "plt.show()"
      ],
      "metadata": {
        "colab": {
          "base_uri": "https://localhost:8080/",
          "height": 297
        },
        "id": "iZTV_YkzFfwi",
        "outputId": "2ec0091f-9221-4af8-fdf1-2a06ae5915cb"
      },
      "execution_count": null,
      "outputs": [
        {
          "output_type": "display_data",
          "data": {
            "text/plain": [
              "<Figure size 432x288 with 1 Axes>"
            ],
            "image/png": "[encoded data removed]"
          },
          "metadata": {
            "needs_background": "light"
          }
        }
      ]
    },
    {
      "cell_type": "code",
      "source": [
        "import matplotlib.pyplot as plt\n",
        "\n",
        "temp = [32, 30, 28, 29, 30.5, 31, 29]\n",
        "dia_semana = ['Dom','Seg','Ter','Qua', 'Qui','Sex','Sáb']\n",
        "\n",
        "plt.title('VARIÇÃO DE TEMPERATURA SEMANA 02')\n",
        "plt.xlabel('Dias da semana')\n",
        "plt.ylabel('Temperatura')\n",
        "plt.grid()\n",
        "\n",
        "plt.plot(dia_semana, temp, marker = 'o')\n",
        "plt.show()"
      ],
      "metadata": {
        "colab": {
          "base_uri": "https://localhost:8080/",
          "height": 297
        },
        "id": "BpQP3-AG_eiO",
        "outputId": "4d567c21-fe51-476f-9af4-2f5f8e6c2483"
      },
      "execution_count": null,
      "outputs": [
        {
          "output_type": "display_data",
          "data": {
            "text/plain": [
              "<Figure size 432x288 with 1 Axes>"
            ],
            "image/png": "[encoded data removed]"
          },
          "metadata": {
            "needs_background": "light"
          }
        }
      ]
    },
    {
      "cell_type": "code",
      "source": [
        "import matplotlib.pyplot as plt\n",
        "\n",
        "temp = [33, 34, 35, 35, 34.5, 34, 33]\n",
        "dia_semana = ['Dom','Seg','Ter','Qua', 'Qui','Sex','Sáb']\n",
        "\n",
        "plt.title('VARIÇÃO DE TEMPERATURA SEMANA 03')\n",
        "plt.xlabel('Dias da semana')\n",
        "plt.ylabel('Temperatura')\n",
        "plt.grid()\n",
        "\n",
        "plt.plot(dia_semana, temp, marker = 'o')\n",
        "plt.show()"
      ],
      "metadata": {
        "colab": {
          "base_uri": "https://localhost:8080/",
          "height": 297
        },
        "id": "C8eBhOU5FHAg",
        "outputId": "0736d197-c0b1-46dd-8ba4-548f929b8b84"
      },
      "execution_count": null,
      "outputs": [
        {
          "output_type": "display_data",
          "data": {
            "text/plain": [
              "<Figure size 432x288 with 1 Axes>"
            ],
            "image/png": "[encoded data removed]"
          },
          "metadata": {
            "needs_background": "light"
          }
        }
      ]
    },
    {
      "cell_type": "code",
      "source": [
        "# c) Calcule a média de toda a série.\n",
        "import numpy as np\n",
        "\n",
        "temp_geral = [30, 32, 31.5, 31, 33, 34, 33, 32, 30, 28, 29, 30.5, 31, 29, 33, 34, 35, 35, 34.5, 34, 33]\n",
        "\n",
        "media = np.mean(temp_geral)\n",
        "\n",
        "print(f'A média da temperatura em toda a série é de:{media: .2f}°C.' )"
      ],
      "metadata": {
        "colab": {
          "base_uri": "https://localhost:8080/"
        },
        "id": "vF45kpVKFY2k",
        "outputId": "b57b1c19-c241-4b2b-a0e4-416715928239"
      },
      "execution_count": null,
      "outputs": [
        {
          "output_type": "stream",
          "name": "stdout",
          "text": [
            "A média da temperatura em toda a série é de: 32.02°C.\n"
          ]
        }
      ]
    },
    {
      "cell_type": "code",
      "source": [
        "# d) Calcule a média para cada semana.\n",
        "temp_sem_01 = [30, 32, 31.5, 31, 33, 34, 33]\n",
        "\n",
        "media = np.mean(temp_sem_01)\n",
        "\n",
        "print(f'A média da temperatura na semana 01 foi de:{media: .2f}°C.' )"
      ],
      "metadata": {
        "colab": {
          "base_uri": "https://localhost:8080/"
        },
        "id": "u8fSUj4RG2zU",
        "outputId": "da19f9e1-3f63-4ec9-8ef6-af00b25a0923"
      },
      "execution_count": null,
      "outputs": [
        {
          "output_type": "stream",
          "name": "stdout",
          "text": [
            "A média da temperatura na semana 01 foi de: 32.07°C.\n"
          ]
        }
      ]
    },
    {
      "cell_type": "code",
      "source": [
        "temp_sem_02 = [32, 30, 28, 29, 30.5, 31, 29]\n",
        "\n",
        "media = np.mean(temp_sem_02)\n",
        "\n",
        "print(f'A média da temperatura na semana 02 foi de:{media: .2f}°C.' )"
      ],
      "metadata": {
        "colab": {
          "base_uri": "https://localhost:8080/"
        },
        "id": "soO_wlLDKsHb",
        "outputId": "f483c33b-16c8-4a12-c2d2-0582857ae782"
      },
      "execution_count": null,
      "outputs": [
        {
          "output_type": "stream",
          "name": "stdout",
          "text": [
            "A média da temperatura na semana 02 foi de: 29.93°C.\n"
          ]
        }
      ]
    },
    {
      "cell_type": "code",
      "source": [
        "temp_sem_03 = [33, 34, 35, 35, 34.5, 34, 33]\n",
        "\n",
        "media = np.mean(temp_sem_03)\n",
        "\n",
        "print(f'A média da temperatura na semana 03 foi de:{media: .2f}°C.' )"
      ],
      "metadata": {
        "colab": {
          "base_uri": "https://localhost:8080/"
        },
        "id": "Eg5BtcwEKwlv",
        "outputId": "2a9255d8-f5a5-4333-d47f-115a1a7bcc01"
      },
      "execution_count": null,
      "outputs": [
        {
          "output_type": "stream",
          "name": "stdout",
          "text": [
            "A média da temperatura na semana 03 foi de: 34.07°C.\n"
          ]
        }
      ]
    },
    {
      "cell_type": "code",
      "source": [
        "# e) Obter o box-plot para toda série e para cada semana.\n",
        "temp_geral = [30, 32, 31.5, 31, 33, 34, 33, 32, 30, 28, 29, 30.5, 31, 29, 33, 34, 35, 35, 34.5, 34, 33]\n",
        "\n",
        "plt.boxplot(temp_geral, vert=False, widths=0.3, patch_artist=True)\n",
        "plt.title('Boxplot das temperaturas', fontdict={'color':'blue', 'weight': 'bold', 'size': '18', 'family': 'serif'})\n",
        "plt.xlabel('Temperaturas', fontdict={'color': 'blue', 'weight': 'bold'})\n",
        "\n",
        "plt.show()"
      ],
      "metadata": {
        "colab": {
          "base_uri": "https://localhost:8080/",
          "height": 299
        },
        "id": "2vSV8-4PLMa9",
        "outputId": "b61bf1f4-d62a-49bf-c760-b10b6969c6de"
      },
      "execution_count": null,
      "outputs": [
        {
          "output_type": "display_data",
          "data": {
            "text/plain": [
              "<Figure size 432x288 with 1 Axes>"
            ],
            "image/png": "[encoded data removed]"
          },
          "metadata": {
            "needs_background": "light"
          }
        }
      ]
    }
  ]
}